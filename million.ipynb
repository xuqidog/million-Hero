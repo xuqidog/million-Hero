{
 "cells": [
  {
   "cell_type": "code",
   "execution_count": 35,
   "metadata": {
    "collapsed": true
   },
   "outputs": [],
   "source": [
    "# encoding=utf8  \n",
    "from PIL import ImageGrab\n",
    "import time\n",
    "from aip import AipOcr\n",
    "import urllib\n",
    "from urllib.parse import quote\n",
    "import requests\n",
    "import webbrowser"
   ]
  },
  {
   "cell_type": "code",
   "execution_count": 36,
   "metadata": {
    "collapsed": true
   },
   "outputs": [],
   "source": [
    "\"\"\" 读取图片 \"\"\"\n",
    "def get_file_content(filePath):\n",
    "    with open(filePath, 'rb') as fp:\n",
    "        return fp.read()"
   ]
  },
  {
   "cell_type": "code",
   "execution_count": 231,
   "metadata": {
    "collapsed": true
   },
   "outputs": [],
   "source": [
    "PATH = lambda p: os.path.abspath(p)\n",
    "\n",
    "def cap():\n",
    "    # 每抓取一次屏幕需要的时间约为1s,如果图像尺寸小一些效率就会高一些\n",
    "    path=time.strftime('%Y-%m-%d %H:%M:%S', time.localtime(time.time()))\n",
    "    debug = False\n",
    "    # 截图的尺寸\n",
    "    img = ImageGrab.grab(bbox=(90, 400, 1200-60, 1300)) \n",
    "    img.save(path+\".png\")\n",
    "    return path+\".png\"\n",
    "    #img = np.array(img.getdata(), np.uint8).reshape(img.size[1], img.size[0], 3)"
   ]
  },
  {
   "cell_type": "code",
   "execution_count": 38,
   "metadata": {
    "collapsed": true
   },
   "outputs": [],
   "source": [
    "\"\"\" 你的 APPID AK SK 打开下面链接，在百度云注册获取\"\"\"\n",
    "\"\"\"https://cloud.baidu.com/doc/OCR/OCR-iOS-SDK/24.5C.E6.95.B0.E6.8D.AE.E6.8E.A5.E5.8F.A3.html\"\"\"\n",
    "APP_ID = '替换自己申请的 APP_ID'\n",
    "API_KEY = '替换自己申请的 API_KEY'\n",
    "SECRET_KEY = '替换自己申请的 SECRET_KEY'\n",
    "\n",
    "def getResult(filename):\n",
    "    client = AipOcr(APP_ID, API_KEY, SECRET_KEY)\n",
    "\n",
    "    image = get_file_content(filename)\n",
    "\n",
    "    \"\"\" 调用通用文字识别, 图片参数为本地图片 \"\"\"\n",
    "    result=client.basicGeneral(image)\n",
    "    # result=\"{u'log_id': 578283474979346368, u'words_result_num': 9, u'words_result': [{u'words': u'\\u6253\\u65b0\\u7684\\u6807\\u7b7e\\u9875\\u9996\\u9875\\u25a1\\u516c\\u53f8\\u25a1RN\\u25a1\\u5b66\\u4e60\\u7f51\\u7ad9\\u25a1\\u90e8\\u7f72Qb'}, {u'words': u'\\u4e3a\\u82f1\\u8bed\\u538c'}, {u'words': u'\\u76f2\\u76ee\\u81ea\\u4fe1\\u7fa4'}, {u'words': u'\\u5f90\\u5176\\u4e1c'}, {u'words': u'2'}, {u'words': u'\\u5468\\u51e1:\\u60f3\\u4f4f\\u8fd9\\u6837\\u4e00\\u4e2a\\u5c0f\\u623f\\u5b50\\u662f\\u591a'}, {u'words': u'3'}, {u'words': u'6. Studio Android Studio a##'}, {u'words': u'\\u5e1d\\u90fd-\\u7f8e\\u6ecbhttp:// www.apkbu'}]}\"\n",
    "    count=result.get(\"words_result_num\")\n",
    "    result_dic={\"answer\":None,\"question\":\"\"}\n",
    "    if count>3:\n",
    "        answers=result.get(\"words_result\")\n",
    "        s=\"\"\n",
    "        ques_len=count\n",
    "        ans_index=2\n",
    "        for i in range(ques_len):\n",
    "            words=answers[i].get(\"words\")\n",
    "            s+=words\n",
    "            if words.find(\"?\")>=0:\n",
    "                ans_index=i+1\n",
    "                break\n",
    "        new_ans=answers[ans_index:]\n",
    "        new_ans2=list()\n",
    "        for i in range(len(new_ans)):\n",
    "            new_ans2.append(new_ans[i].get(\"words\"))\n",
    "        result_dic[\"question\"]=s\n",
    "        result_dic[\"answer\"]=new_ans2\n",
    "    return result_dic\n"
   ]
  },
  {
   "cell_type": "code",
   "execution_count": 58,
   "metadata": {
    "collapsed": true
   },
   "outputs": [],
   "source": [
    "def start(path):\n",
    "    result_dic = getResult(path)\n",
    "    question = result_dic.get(\"question\")\n",
    "    answer = result_dic.get(\"answer\")\n",
    "\n",
    "    url = \"http://m.baidu.com/s?wd=\" + question\n",
    "    url = quote(url, safe=\"/:?=\")\n",
    "    response=requests.get(url)\n",
    "    content=response.text\n",
    "    print(question)\n",
    "    size = len(answer)\n",
    "    for i in range(size):\n",
    "        print(\"%s\\t%d\" % (answer[i], content.count(answer[i])))\n",
    "    return url"
   ]
  },
  {
   "cell_type": "code",
   "execution_count": 265,
   "metadata": {
    "scrolled": false
   },
   "outputs": [
    {
     "name": "stdout",
     "output_type": "stream",
     "text": [
      "-0.5160949230194092\n",
      "12.地壳中含量最多的金属元素是什么?\n",
      "铝\t8\n",
      "铁\t9\n",
      "钙\t3\n",
      "-7.610493898391724\n"
     ]
    }
   ],
   "source": [
    "#截屏\n",
    "beg = time.time()\n",
    "path = cap()\n",
    "end = time.time()\n",
    "print (beg - end)\n",
    "\n",
    "# 开始识别\n",
    "beg = time.time()\n",
    "url = start(path)\n",
    "end = time.time()\n",
    "print (beg - end)"
   ]
  },
  {
   "cell_type": "code",
   "execution_count": 253,
   "metadata": {},
   "outputs": [
    {
     "data": {
      "text/plain": [
       "True"
      ]
     },
     "execution_count": 253,
     "metadata": {},
     "output_type": "execute_result"
    }
   ],
   "source": [
    "webbrowser.open(url, new=0, autoraise=True)"
   ]
  },
  {
   "cell_type": "code",
   "execution_count": null,
   "metadata": {
    "collapsed": true
   },
   "outputs": [],
   "source": []
  }
 ],
 "metadata": {
  "kernelspec": {
   "display_name": "Python 3",
   "language": "python",
   "name": "python3"
  },
  "language_info": {
   "codemirror_mode": {
    "name": "ipython",
    "version": 3
   },
   "file_extension": ".py",
   "mimetype": "text/x-python",
   "name": "python",
   "nbconvert_exporter": "python",
   "pygments_lexer": "ipython3",
   "version": "3.6.3"
  }
 },
 "nbformat": 4,
 "nbformat_minor": 2
}
